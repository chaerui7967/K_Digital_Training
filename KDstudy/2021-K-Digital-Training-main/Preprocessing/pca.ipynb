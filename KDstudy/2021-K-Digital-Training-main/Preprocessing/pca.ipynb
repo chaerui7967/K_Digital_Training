{
 "cells": [
  {
   "cell_type": "markdown",
   "id": "presidential-voice",
   "metadata": {},
   "source": [
    "### PCA"
   ]
  },
  {
   "cell_type": "code",
   "execution_count": 6,
   "id": "yellow-slope",
   "metadata": {},
   "outputs": [],
   "source": [
    "# example of pca for dimensionality reduction\n",
    "from sklearn.datasets import make_classification\n",
    "from sklearn.decomposition import PCA\n",
    "from sklearn.feature_selection import RFE\n",
    "from sklearn.tree import DecisionTreeClassifier"
   ]
  },
  {
   "cell_type": "code",
   "execution_count": 9,
   "id": "north-brighton",
   "metadata": {},
   "outputs": [
    {
     "name": "stdout",
     "output_type": "stream",
     "text": [
      "[[-0.53448246  0.93837451  0.38969914  0.0926655   1.70876508  1.14351305\n",
      "  -1.47034214  0.11857673 -2.72241741  0.2953565 ]\n",
      " [-2.42280473 -1.02658758 -2.34792156 -0.82422408  0.59933419 -2.44832253\n",
      "   0.39750207  2.0265065   1.83374105  0.72430365]\n",
      " [-1.83391794 -1.1946668  -0.73806871  1.50947233  1.78047734  0.58779205\n",
      "  -2.78506977 -0.04163788 -1.25227833  0.99373587]]\n"
     ]
    }
   ],
   "source": [
    "# define dataset\n",
    "X, y = make_classification(n_samples=1000, n_features=10, n_informative=3, n_redundant=7,\n",
    "random_state=1)\n",
    "\n",
    "# summarize data before the transform\n",
    "print(X[:3, :])"
   ]
  },
  {
   "cell_type": "code",
   "execution_count": 10,
   "id": "408b1e08-bd48-4ada-95d3-cec2c62d9c4e",
   "metadata": {},
   "outputs": [],
   "source": [
    "# define the transform #특징을 3개로 축소\n",
    "trans = PCA(n_components=5)"
   ]
  },
  {
   "cell_type": "code",
   "execution_count": 11,
   "id": "77eb5cb0-1ecb-4896-94ec-f24a87adf3e6",
   "metadata": {},
   "outputs": [],
   "source": [
    "# transform the data\n",
    "X_dim = trans.fit_transform(X)"
   ]
  },
  {
   "cell_type": "code",
   "execution_count": 12,
   "id": "7ee80fab-36ec-4660-9a56-d8d365b212c9",
   "metadata": {},
   "outputs": [
    {
     "name": "stdout",
     "output_type": "stream",
     "text": [
      "[[-1.64710578e+00 -2.11683302e+00  1.98256096e+00  1.96848970e-16\n",
      "   5.62167863e-16]\n",
      " [ 9.28402085e-01  4.82949970e+00  2.27270432e-01  2.18601301e-16\n",
      "   8.07228007e-16]\n",
      " [-3.83677757e+00  3.23007138e-01  1.15128013e-01  4.31431934e-16\n",
      "   6.31900462e-16]]\n"
     ]
    }
   ],
   "source": [
    "# summarize data after the transform\n",
    "print(X_dim[:3, :])"
   ]
  },
  {
   "cell_type": "markdown",
   "id": "87237796-1a23-4cd2-b82b-8ba01d1655d3",
   "metadata": {},
   "source": [
    "# rfe 와 비교"
   ]
  },
  {
   "cell_type": "code",
   "execution_count": 7,
   "id": "fossil-piece",
   "metadata": {},
   "outputs": [
    {
     "data": {
      "text/plain": [
       "RFE(estimator=DecisionTreeClassifier(), n_features_to_select=5)"
      ]
     },
     "execution_count": 7,
     "metadata": {},
     "output_type": "execute_result"
    }
   ],
   "source": [
    "# define RFE\n",
    "rfe = RFE(estimator=DecisionTreeClassifier(), n_features_to_select=5)\n",
    "\n",
    "# fit RFE\n",
    "rfe.fit(X, y)"
   ]
  },
  {
   "cell_type": "code",
   "execution_count": 8,
   "id": "2ae01912-bc76-4279-ba07-b66a9c902e3f",
   "metadata": {},
   "outputs": [
    {
     "name": "stdout",
     "output_type": "stream",
     "text": [
      "Column: 0, Selected=False, Rank: 5\n",
      "Column: 1, Selected=True, Rank: 1\n",
      "Column: 2, Selected=False, Rank: 3\n",
      "Column: 3, Selected=False, Rank: 2\n",
      "Column: 4, Selected=False, Rank: 4\n",
      "Column: 5, Selected=True, Rank: 1\n",
      "Column: 6, Selected=True, Rank: 1\n",
      "Column: 7, Selected=True, Rank: 1\n",
      "Column: 8, Selected=False, Rank: 6\n",
      "Column: 9, Selected=True, Rank: 1\n"
     ]
    }
   ],
   "source": [
    "# summarize all features\n",
    "for i in range(X.shape[1]):\n",
    "  print('Column: %d, Selected=%s, Rank: %d' % (i, rfe.support_[i], rfe.ranking_[i]))"
   ]
  },
  {
   "cell_type": "code",
   "execution_count": null,
   "id": "7cc2d0ce-464f-4fd1-9e3c-3ce98f761d3b",
   "metadata": {},
   "outputs": [],
   "source": []
  }
 ],
 "metadata": {
  "kernelspec": {
   "display_name": "Python Multi",
   "language": "python",
   "name": "multi"
  },
  "language_info": {
   "codemirror_mode": {
    "name": "ipython",
    "version": 3
   },
   "file_extension": ".py",
   "mimetype": "text/x-python",
   "name": "python",
   "nbconvert_exporter": "python",
   "pygments_lexer": "ipython3",
   "version": "3.7.6"
  }
 },
 "nbformat": 4,
 "nbformat_minor": 5
}
