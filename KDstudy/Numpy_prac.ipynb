{
 "cells": [
  {
   "cell_type": "markdown",
   "id": "7c2b3001",
   "metadata": {},
   "source": [
    "pip install opencv-python==4.4.0.46"
   ]
  },
  {
   "cell_type": "markdown",
   "id": "181f7858",
   "metadata": {},
   "source": [
    "실습- 이미지 클립핑"
   ]
  },
  {
   "cell_type": "code",
   "execution_count": 1,
   "id": "b95f35e6",
   "metadata": {},
   "outputs": [],
   "source": [
    "import cv2\n",
    "import platform"
   ]
  },
  {
   "cell_type": "code",
   "execution_count": 2,
   "id": "02c794e4",
   "metadata": {},
   "outputs": [
    {
     "name": "stdout",
     "output_type": "stream",
     "text": [
      "OpenCV version: 4.4.0\n",
      "Python version: 3.9.5\n"
     ]
    }
   ],
   "source": [
    "print('OpenCV version: {}'.format(cv2.__version__))\n",
    "print('Python version: {}'.format(platform.python_version()))"
   ]
  },
  {
   "cell_type": "code",
   "execution_count": null,
   "id": "4c38b36a",
   "metadata": {},
   "outputs": [],
   "source": [
    "!cd"
   ]
  },
  {
   "cell_type": "code",
   "execution_count": 3,
   "id": "cebc35cb",
   "metadata": {},
   "outputs": [],
   "source": [
    "src = cv2.imread('C:\\\\Users\\\\j\\\\Desktop\\\\2021-K-Digital-Training-main\\\\data3.png')"
   ]
  },
  {
   "cell_type": "code",
   "execution_count": null,
   "id": "4603bc7c",
   "metadata": {},
   "outputs": [],
   "source": [
    "#flipped = cv2.flip(src, -1)"
   ]
  },
  {
   "cell_type": "code",
   "execution_count": 4,
   "id": "3b4520a0",
   "metadata": {},
   "outputs": [],
   "source": [
    "cv2.imshow('Image', src)\n",
    "#cv2.imshow('Image flipped', flipped)\n",
    "#cv2.imwrite('.\\\\images\\\\flipped_penguins.png', flipped)\n",
    "cv2.waitKey(0) # 0 forever// 0은 사용자가 끌때까지 켜져 있음\n",
    "cv2.destroyAllWindows()"
   ]
  },
  {
   "cell_type": "code",
   "execution_count": null,
   "id": "d207d285",
   "metadata": {},
   "outputs": [],
   "source": [
    "src.ndim"
   ]
  },
  {
   "cell_type": "code",
   "execution_count": null,
   "id": "3832baa8",
   "metadata": {},
   "outputs": [],
   "source": [
    "src.shape"
   ]
  },
  {
   "cell_type": "code",
   "execution_count": null,
   "id": "8ca5d821",
   "metadata": {},
   "outputs": [],
   "source": [
    "#50,50 -> 150,150"
   ]
  },
  {
   "cell_type": "code",
   "execution_count": null,
   "id": "96b41e6e",
   "metadata": {},
   "outputs": [],
   "source": [
    "src_face = src[50:150,50:150]"
   ]
  },
  {
   "cell_type": "code",
   "execution_count": null,
   "id": "bbabd270",
   "metadata": {},
   "outputs": [],
   "source": [
    "src_face.shape"
   ]
  },
  {
   "cell_type": "code",
   "execution_count": null,
   "id": "91f6d16a",
   "metadata": {},
   "outputs": [],
   "source": [
    "cv2.imshow('Face_Image',src_face)\n",
    "cv2.waitKey(0) # 0 forever \n",
    "cv2.destroyAllWindows()"
   ]
  },
  {
   "cell_type": "code",
   "execution_count": null,
   "id": "1e4831c2",
   "metadata": {},
   "outputs": [],
   "source": [
    "#저장"
   ]
  },
  {
   "cell_type": "code",
   "execution_count": null,
   "id": "f20a3129",
   "metadata": {},
   "outputs": [],
   "source": [
    "#cv2.imwrite('.\\\\dog_face.png',src_face) #현재 디렉토리 밑에 저장"
   ]
  },
  {
   "cell_type": "code",
   "execution_count": null,
   "id": "6dbd0eaa",
   "metadata": {},
   "outputs": [],
   "source": [
    "#코끼리 위치"
   ]
  },
  {
   "cell_type": "code",
   "execution_count": null,
   "id": "932bf392",
   "metadata": {},
   "outputs": [],
   "source": [
    "#elephant1 [170:319, 79:205]\n",
    "#elephant2 [70:515, 249:861]"
   ]
  },
  {
   "cell_type": "code",
   "execution_count": 3,
   "id": "27e8d909",
   "metadata": {},
   "outputs": [],
   "source": [
    "src2 = cv2.imread('C:\\\\Users\\\\j\\\\Desktop\\\\2021-K-Digital-Training-main\\\\elephant2.png')"
   ]
  },
  {
   "cell_type": "markdown",
   "id": "17f92def-20aa-4127-9fae-460de991e365",
   "metadata": {},
   "source": [
    "cv2.IMREAD_COLOR : 이미지 파일을 Color로 읽어들입니다. 투명한 부분은 무시되며, Default값입니다.(1)\n",
    "cv2.IMREAD_GRAYSCALE : 이미지를 Grayscale로 읽어 들입니다. 실제 이미지 처리시 중간단계로 많이 사용합니다.(0)\n",
    "cv2.IMREAD_UNCHANGED : 이미지파일을 alpha channel까지 포함하여 읽어 들입니다.(-1)"
   ]
  },
  {
   "cell_type": "code",
   "execution_count": 4,
   "id": "9433908b",
   "metadata": {},
   "outputs": [
    {
     "data": {
      "text/plain": [
       "3"
      ]
     },
     "execution_count": 4,
     "metadata": {},
     "output_type": "execute_result"
    }
   ],
   "source": [
    "src2.ndim"
   ]
  },
  {
   "cell_type": "code",
   "execution_count": 5,
   "id": "f512db94",
   "metadata": {},
   "outputs": [],
   "source": [
    "src_ele1 = src2[170:319, 79:205]\n",
    "src_ele2 = src2[70:515, 249:861]"
   ]
  },
  {
   "cell_type": "code",
   "execution_count": 9,
   "id": "ee8378e9",
   "metadata": {},
   "outputs": [],
   "source": [
    "cv2.imshow('ele1_Image',src_ele1)\n",
    "cv2.imshow('ele2_Image',src_ele2)\n",
    "#cv2.imwrite('.\\\\ele1.png',src_ele1) 현재 폴더에 저장\n",
    "#cv2.imwrite('.\\\\ele2.png',src_ele2)\n",
    "cv2.imshow('Image',src2)\n",
    "cv2.waitKey(0) # 0 forever \n",
    "cv2.destroyAllWindows()"
   ]
  },
  {
   "cell_type": "code",
   "execution_count": null,
   "id": "047770a7",
   "metadata": {},
   "outputs": [],
   "source": []
  }
 ],
 "metadata": {
  "kernelspec": {
   "display_name": "Python Multi",
   "language": "python",
   "name": "multi"
  },
  "language_info": {
   "codemirror_mode": {
    "name": "ipython",
    "version": 3
   },
   "file_extension": ".py",
   "mimetype": "text/x-python",
   "name": "python",
   "nbconvert_exporter": "python",
   "pygments_lexer": "ipython3",
   "version": "3.9.5"
  }
 },
 "nbformat": 4,
 "nbformat_minor": 5
}
