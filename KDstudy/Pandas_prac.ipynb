{
 "cells": [
  {
   "cell_type": "markdown",
   "id": "5850c115-5c61-4648-9f51-b1005fb248ae",
   "metadata": {},
   "source": [
    "간단한 pandas 연산 핸들링"
   ]
  },
  {
   "cell_type": "code",
   "execution_count": null,
   "id": "30d1ead9-f113-4b05-aa76-dd7cfaecae5e",
   "metadata": {},
   "outputs": [],
   "source": [
    "import pandas as pd"
   ]
  },
  {
   "cell_type": "code",
   "execution_count": null,
   "id": "c5a72178-5768-4dec-addc-a9697565c0ba",
   "metadata": {},
   "outputs": [],
   "source": [
    "prac_dic = {'A':10,'B':20,'C':30,'D':40}\n",
    "prac_S = pd.Series(prac_dic)"
   ]
  },
  {
   "cell_type": "code",
   "execution_count": null,
   "id": "37935405-75e1-44c7-be5a-e1a2cc167dd9",
   "metadata": {},
   "outputs": [],
   "source": [
    "prac_S.values"
   ]
  },
  {
   "cell_type": "code",
   "execution_count": null,
   "id": "762f83fc-9c99-4b6d-b847-27f04e28209b",
   "metadata": {},
   "outputs": [],
   "source": [
    "prac_S.dtype"
   ]
  },
  {
   "cell_type": "code",
   "execution_count": null,
   "id": "a1d357d4-e2e1-47f9-9616-fa05cf26a0c5",
   "metadata": {},
   "outputs": [],
   "source": [
    "prac_S*=100"
   ]
  },
  {
   "cell_type": "code",
   "execution_count": null,
   "id": "17e5d542-5708-4845-a6db-a722cfca7ab5",
   "metadata": {},
   "outputs": [],
   "source": [
    "prac_S[:]"
   ]
  },
  {
   "cell_type": "code",
   "execution_count": null,
   "id": "2163beb5-a206-4d8e-bbf0-3664df2b86db",
   "metadata": {},
   "outputs": [],
   "source": [
    "prac_S[:2]"
   ]
  },
  {
   "cell_type": "code",
   "execution_count": null,
   "id": "bd28e77c-da51-4879-9f33-5c0b1ea973f0",
   "metadata": {},
   "outputs": [],
   "source": [
    "prac_S[-3:-1]"
   ]
  }
 ],
 "metadata": {
  "kernelspec": {
   "display_name": "Python Multi",
   "language": "python",
   "name": "multi"
  },
  "language_info": {
   "codemirror_mode": {
    "name": "ipython",
    "version": 3
   },
   "file_extension": ".py",
   "mimetype": "text/x-python",
   "name": "python",
   "nbconvert_exporter": "python",
   "pygments_lexer": "ipython3",
   "version": "3.9.5"
  }
 },
 "nbformat": 4,
 "nbformat_minor": 5
}
