{
 "cells": [
  {
   "cell_type": "markdown",
   "id": "b9222e23-fe4b-46d3-ae40-057382710d42",
   "metadata": {},
   "source": [
    "# 실습 1 <numpy 실습>\n",
    "### 고양이 사진 슬라이싱"
   ]
  },
  {
   "cell_type": "code",
   "execution_count": 21,
   "id": "ac466028-e8c1-4a69-b78f-d96e19e6411a",
   "metadata": {},
   "outputs": [],
   "source": [
    "import cv2\n",
    "import numpy as np"
   ]
  },
  {
   "cell_type": "code",
   "execution_count": 22,
   "id": "13c1e976-4b90-49bb-ab26-8596f9ecdebf",
   "metadata": {},
   "outputs": [],
   "source": [
    "src = cv2.imread('data3.png')"
   ]
  },
  {
   "cell_type": "code",
   "execution_count": 23,
   "id": "314e76dd-8b9e-45ac-ab40-19de680584e3",
   "metadata": {},
   "outputs": [],
   "source": [
    "cat = src[280:380,450:570]"
   ]
  },
  {
   "cell_type": "code",
   "execution_count": 24,
   "id": "6c8d8694-ebee-4871-8ec4-a5ea89d57336",
   "metadata": {},
   "outputs": [],
   "source": [
    "cv2.imshow('cat',cat)\n",
    "cv2.waitKey(0)\n",
    "cv2.destroyAllWindows()"
   ]
  },
  {
   "cell_type": "code",
   "execution_count": 25,
   "id": "184adc1a-a7ef-484d-9171-c10ea13a16d2",
   "metadata": {},
   "outputs": [
    {
     "data": {
      "text/plain": [
       "True"
      ]
     },
     "execution_count": 25,
     "metadata": {},
     "output_type": "execute_result"
    }
   ],
   "source": [
    "cv2.imwrite('.\\\\cat.png',cat)"
   ]
  },
  {
   "cell_type": "markdown",
   "id": "8a07fe51-403a-40cf-a01a-33ec225be6ee",
   "metadata": {},
   "source": [
    "# 실습 2 \n",
    "## 기린 얼굴 사진 슬라이싱"
   ]
  },
  {
   "cell_type": "code",
   "execution_count": 26,
   "id": "fa7127ca-e8e1-407b-b800-1b37e6875fbf",
   "metadata": {},
   "outputs": [],
   "source": [
    "src2 = cv2.imread('giraffe.jpg')"
   ]
  },
  {
   "cell_type": "code",
   "execution_count": 27,
   "id": "b667b4b2-5f5e-49de-8fc1-ab4ab3040807",
   "metadata": {},
   "outputs": [],
   "source": [
    "giraffe = src2[50:400,100:500]"
   ]
  },
  {
   "cell_type": "code",
   "execution_count": 28,
   "id": "bb0b06d1-30ab-4a4c-a288-8f8a41abadb1",
   "metadata": {},
   "outputs": [],
   "source": [
    "cv2.imshow('giraffe',giraffe)\n",
    "cv2.waitKey(0)\n",
    "cv2.destroyAllWindows()"
   ]
  },
  {
   "cell_type": "code",
   "execution_count": 29,
   "id": "9fa33bf2-3f4f-4557-86b5-0446ad06fab0",
   "metadata": {},
   "outputs": [
    {
     "data": {
      "text/plain": [
       "True"
      ]
     },
     "execution_count": 29,
     "metadata": {},
     "output_type": "execute_result"
    }
   ],
   "source": [
    "cv2.imwrite('.\\\\giraffe.png',giraffe)"
   ]
  },
  {
   "cell_type": "markdown",
   "id": "adfcd792-3bb8-4702-bc0a-949395ebff6f",
   "metadata": {},
   "source": [
    "# 실습3 - 심화\n",
    "### 사진 위치를 뽑기"
   ]
  },
  {
   "cell_type": "code",
   "execution_count": null,
   "id": "8d3255f2-704b-4631-8e50-e6ba9b1eb539",
   "metadata": {},
   "outputs": [],
   "source": []
  }
 ],
 "metadata": {
  "kernelspec": {
   "display_name": "Python Multi",
   "language": "python",
   "name": "multi"
  },
  "language_info": {
   "codemirror_mode": {
    "name": "ipython",
    "version": 3
   },
   "file_extension": ".py",
   "mimetype": "text/x-python",
   "name": "python",
   "nbconvert_exporter": "python",
   "pygments_lexer": "ipython3",
   "version": "3.7.6"
  }
 },
 "nbformat": 4,
 "nbformat_minor": 5
}
