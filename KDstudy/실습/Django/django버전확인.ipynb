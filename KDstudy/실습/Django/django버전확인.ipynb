{
 "cells": [
  {
   "cell_type": "code",
   "execution_count": 2,
   "id": "89110892-c2e4-4074-b4e5-5f44951a3048",
   "metadata": {},
   "outputs": [],
   "source": [
    "import django"
   ]
  },
  {
   "cell_type": "code",
   "execution_count": 3,
   "id": "722a657c-be6d-401b-a75d-30fa5ebb9e5a",
   "metadata": {},
   "outputs": [
    {
     "data": {
      "text/plain": [
       "'3.2.4'"
      ]
     },
     "execution_count": 3,
     "metadata": {},
     "output_type": "execute_result"
    }
   ],
   "source": [
    "django.__version__"
   ]
  },
  {
   "cell_type": "code",
   "execution_count": null,
   "id": "fcf6ec7f-cabd-4c61-817e-c3a6f5f9a996",
   "metadata": {},
   "outputs": [],
   "source": []
  }
 ],
 "metadata": {
  "kernelspec": {
   "display_name": "Python Django",
   "language": "python",
   "name": "django"
  },
  "language_info": {
   "codemirror_mode": {
    "name": "ipython",
    "version": 3
   },
   "file_extension": ".py",
   "mimetype": "text/x-python",
   "name": "python",
   "nbconvert_exporter": "python",
   "pygments_lexer": "ipython3",
   "version": "3.8.3"
  }
 },
 "nbformat": 4,
 "nbformat_minor": 5
}
