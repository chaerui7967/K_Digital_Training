{
 "cells": [
  {
   "cell_type": "code",
   "execution_count": null,
   "id": "bcca07c2-d9a8-410d-b55c-32a1db971d8d",
   "metadata": {},
   "outputs": [],
   "source": [
    "import numpy as np"
   ]
  },
  {
   "cell_type": "markdown",
   "id": "3683b907-d96e-4ab6-a6a1-491501a46e65",
   "metadata": {},
   "source": [
    "Numpy 기본 함수 활용"
   ]
  },
  {
   "cell_type": "code",
   "execution_count": null,
   "id": "f06af78d-da42-46f0-828a-e7cdb4d6cc3d",
   "metadata": {},
   "outputs": [],
   "source": [
    "MathScoreNestedList = [[11, 12, 13], [21, 22, 23], [31, 32, 33]]"
   ]
  },
  {
   "cell_type": "code",
   "execution_count": null,
   "id": "7a943dc9-5763-418a-91ad-985a8499de40",
   "metadata": {},
   "outputs": [],
   "source": [
    "mathScoreNdarray = np.array(MathScoreNestedList)"
   ]
  },
  {
   "cell_type": "code",
   "execution_count": null,
   "id": "5bf7d82b-d6a1-4b18-ba76-5c8a67e303c9",
   "metadata": {},
   "outputs": [],
   "source": [
    "# 각 요소에 +1(브로드 캐스팅)\n",
    "\n",
    "mathScoreNdarray + 1 "
   ]
  },
  {
   "cell_type": "code",
   "execution_count": null,
   "id": "92931b7a-c881-4916-9c92-ae3dec7b32ac",
   "metadata": {},
   "outputs": [],
   "source": [
    "# 전체 합 구하기\n",
    "np.sum(mathScoreNdarray)"
   ]
  },
  {
   "cell_type": "code",
   "execution_count": null,
   "id": "3099184f-a502-4a2b-9414-3c8f732dc4dd",
   "metadata": {},
   "outputs": [],
   "source": [
    "# 전체 평균 구하기\n",
    "np.mean(mathScoreNdarray)"
   ]
  },
  {
   "cell_type": "code",
   "execution_count": null,
   "id": "3e1c6e95-28f2-402c-9243-7978413ab645",
   "metadata": {},
   "outputs": [],
   "source": [
    "# 열의 평균 구하기\n",
    "np.mean(mathScoreNdarray, axis=0) #2차원 기준 axis = 0 이면 열을 의미"
   ]
  },
  {
   "cell_type": "code",
   "execution_count": null,
   "id": "963a059c-db90-4d11-9cb4-887992b2fdd2",
   "metadata": {},
   "outputs": [],
   "source": [
    "# 행의 평균 구하기\n",
    "np.mean(mathScoreNdarray, axis=1)"
   ]
  },
  {
   "cell_type": "markdown",
   "id": "39d95508-dbfc-446d-b06d-6506fc95d01a",
   "metadata": {},
   "source": [
    "NumPy 장점\n",
    "코어 부분이 C로 구현되어 동일한 연산을 하더라도 Python에 비해 속도가 빠름\n",
    "라이브러리에 구현되어있는 함수들을 활용해 짧고 간결한 코드 작성 가능\n",
    "(효율적인 메모리 사용이 가능하도록 구현됨)"
   ]
  },
  {
   "cell_type": "markdown",
   "id": "fe158df6-1c99-44e7-9af0-87b71a8620be",
   "metadata": {},
   "source": [
    "Numpy의 경우 변수에 값 자체를 넣지만, list의 경우 값이 있는 주소 값을 지정해놓기 때문에 Numpy가 더 빠르다"
   ]
  },
  {
   "cell_type": "markdown",
   "id": "20c27fbc-ed5c-485d-bd69-0d79e9dcd918",
   "metadata": {},
   "source": [
    "가우스 조던 소거법"
   ]
  },
  {
   "cell_type": "code",
   "execution_count": null,
   "id": "5be5e30b-30b8-447e-9209-ed1d54432625",
   "metadata": {},
   "outputs": [],
   "source": [
    "aa = np.array([[0.,1.,-3.],[2.,3.,-1.],[4.,5.,-2.]])"
   ]
  },
  {
   "cell_type": "code",
   "execution_count": null,
   "id": "3641cd63-41d4-4d91-acc3-3028a7ee5672",
   "metadata": {},
   "outputs": [],
   "source": [
    "b=np.array([-5,7,10])"
   ]
  },
  {
   "cell_type": "code",
   "execution_count": null,
   "id": "1eaf1195-1605-4bb5-ae3c-d613df1a6688",
   "metadata": {},
   "outputs": [],
   "source": [
    "np.linalg.solve(aa,b)"
   ]
  }
 ],
 "metadata": {
  "kernelspec": {
   "display_name": "Python Multi",
   "language": "python",
   "name": "multi"
  },
  "language_info": {
   "codemirror_mode": {
    "name": "ipython",
    "version": 3
   },
   "file_extension": ".py",
   "mimetype": "text/x-python",
   "name": "python",
   "nbconvert_exporter": "python",
   "pygments_lexer": "ipython3",
   "version": "3.7.6"
  }
 },
 "nbformat": 4,
 "nbformat_minor": 5
}
