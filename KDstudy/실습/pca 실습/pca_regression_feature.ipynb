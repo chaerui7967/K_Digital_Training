{
 "cells": [
  {
   "cell_type": "markdown",
   "id": "9004248d-7aab-464b-83f8-d772a49fba33",
   "metadata": {},
   "source": [
    "# Regression\n",
    "## 지도학습 (타겟변수가 존재)"
   ]
  },
  {
   "cell_type": "code",
   "execution_count": 4,
   "id": "6700e88a-4965-4594-97ec-ce5ccea33337",
   "metadata": {},
   "outputs": [],
   "source": [
    "import pymysql.cursors\n",
    "import pandas as pd"
   ]
  },
  {
   "cell_type": "code",
   "execution_count": 5,
   "id": "dc005d01-6b9c-4c9a-bcd4-cd9a7d622492",
   "metadata": {},
   "outputs": [],
   "source": [
    "conn = pymysql.connect(host='localhost', user='me', \n",
    "                       password='1234', db='tip', charset='utf8',\n",
    "                       autocommit=True, cursorclass=pymysql.cursors.DictCursor)\n",
    "try:\n",
    "\n",
    "   with conn.cursor() as curs:\n",
    "      sql = \"select * from tips;\"\n",
    "      curs.execute(sql)\n",
    "      rs = curs.fetchall()\n",
    "\n",
    "      # DB에서 받아온 값을 DataFrame에 넣음\n",
    "\n",
    "      df = pd.DataFrame(rs)    \n",
    "#       df.to_csv('query.csv')\n",
    "\n",
    "finally:\n",
    "\n",
    "   conn.close()"
   ]
  },
  {
   "cell_type": "code",
   "execution_count": 6,
   "id": "385d4b98-5c1f-45ce-91a6-ad347388e3ca",
   "metadata": {},
   "outputs": [],
   "source": [
    "df[\"sex\"] = df[\"sex\"].replace({\"Female\" : 0, \"Male\" : 1})\n",
    "# tips['sex'].replace(~~~~, inplace = True) 해당 변경값을 바로 변수에 투입\n",
    "# \n",
    "df[\"smoker\"] = df[\"smoker\"].replace({\"No\" : 0, \"Yes\" : 1})\n",
    "df[\"day\"] = df[\"day\"].replace({\"Thur\" : 0, \"Fri\" : 1, \"Sat\" : 2, \"Sun\" : 3})\n",
    "df[\"time\"] = df[\"time\"].replace({\"Lunch\" : 0, \"Dinner\" : 1})\n"
   ]
  },
  {
   "cell_type": "code",
   "execution_count": 7,
   "id": "dfd9eee0-884e-4481-9ff8-45e14b980517",
   "metadata": {},
   "outputs": [
    {
     "data": {
      "text/html": [
       "<div>\n",
       "<style scoped>\n",
       "    .dataframe tbody tr th:only-of-type {\n",
       "        vertical-align: middle;\n",
       "    }\n",
       "\n",
       "    .dataframe tbody tr th {\n",
       "        vertical-align: top;\n",
       "    }\n",
       "\n",
       "    .dataframe thead th {\n",
       "        text-align: right;\n",
       "    }\n",
       "</style>\n",
       "<table border=\"1\" class=\"dataframe\">\n",
       "  <thead>\n",
       "    <tr style=\"text-align: right;\">\n",
       "      <th></th>\n",
       "      <th>total_bill</th>\n",
       "      <th>tip</th>\n",
       "      <th>sex</th>\n",
       "      <th>smoker</th>\n",
       "      <th>day</th>\n",
       "      <th>time</th>\n",
       "      <th>size</th>\n",
       "    </tr>\n",
       "  </thead>\n",
       "  <tbody>\n",
       "    <tr>\n",
       "      <th>count</th>\n",
       "      <td>249.000000</td>\n",
       "      <td>249.000000</td>\n",
       "      <td>247.000000</td>\n",
       "      <td>249.000000</td>\n",
       "      <td>249.000000</td>\n",
       "      <td>248.000000</td>\n",
       "      <td>248.000000</td>\n",
       "    </tr>\n",
       "    <tr>\n",
       "      <th>mean</th>\n",
       "      <td>19.622972</td>\n",
       "      <td>2.968795</td>\n",
       "      <td>0.643725</td>\n",
       "      <td>0.373494</td>\n",
       "      <td>1.751004</td>\n",
       "      <td>0.725806</td>\n",
       "      <td>2.572581</td>\n",
       "    </tr>\n",
       "    <tr>\n",
       "      <th>std</th>\n",
       "      <td>8.893766</td>\n",
       "      <td>1.385573</td>\n",
       "      <td>0.479870</td>\n",
       "      <td>0.484706</td>\n",
       "      <td>1.158006</td>\n",
       "      <td>0.447009</td>\n",
       "      <td>0.945249</td>\n",
       "    </tr>\n",
       "    <tr>\n",
       "      <th>min</th>\n",
       "      <td>3.070000</td>\n",
       "      <td>1.000000</td>\n",
       "      <td>0.000000</td>\n",
       "      <td>0.000000</td>\n",
       "      <td>0.000000</td>\n",
       "      <td>0.000000</td>\n",
       "      <td>1.000000</td>\n",
       "    </tr>\n",
       "    <tr>\n",
       "      <th>25%</th>\n",
       "      <td>13.160000</td>\n",
       "      <td>2.000000</td>\n",
       "      <td>0.000000</td>\n",
       "      <td>0.000000</td>\n",
       "      <td>1.000000</td>\n",
       "      <td>0.000000</td>\n",
       "      <td>2.000000</td>\n",
       "    </tr>\n",
       "    <tr>\n",
       "      <th>50%</th>\n",
       "      <td>17.510000</td>\n",
       "      <td>2.750000</td>\n",
       "      <td>1.000000</td>\n",
       "      <td>0.000000</td>\n",
       "      <td>2.000000</td>\n",
       "      <td>1.000000</td>\n",
       "      <td>2.000000</td>\n",
       "    </tr>\n",
       "    <tr>\n",
       "      <th>75%</th>\n",
       "      <td>24.060000</td>\n",
       "      <td>3.510000</td>\n",
       "      <td>1.000000</td>\n",
       "      <td>1.000000</td>\n",
       "      <td>3.000000</td>\n",
       "      <td>1.000000</td>\n",
       "      <td>3.000000</td>\n",
       "    </tr>\n",
       "    <tr>\n",
       "      <th>max</th>\n",
       "      <td>50.810000</td>\n",
       "      <td>10.000000</td>\n",
       "      <td>1.000000</td>\n",
       "      <td>1.000000</td>\n",
       "      <td>3.000000</td>\n",
       "      <td>1.000000</td>\n",
       "      <td>6.000000</td>\n",
       "    </tr>\n",
       "  </tbody>\n",
       "</table>\n",
       "</div>"
      ],
      "text/plain": [
       "       total_bill         tip         sex      smoker         day        time  \\\n",
       "count  249.000000  249.000000  247.000000  249.000000  249.000000  248.000000   \n",
       "mean    19.622972    2.968795    0.643725    0.373494    1.751004    0.725806   \n",
       "std      8.893766    1.385573    0.479870    0.484706    1.158006    0.447009   \n",
       "min      3.070000    1.000000    0.000000    0.000000    0.000000    0.000000   \n",
       "25%     13.160000    2.000000    0.000000    0.000000    1.000000    0.000000   \n",
       "50%     17.510000    2.750000    1.000000    0.000000    2.000000    1.000000   \n",
       "75%     24.060000    3.510000    1.000000    1.000000    3.000000    1.000000   \n",
       "max     50.810000   10.000000    1.000000    1.000000    3.000000    1.000000   \n",
       "\n",
       "             size  \n",
       "count  248.000000  \n",
       "mean     2.572581  \n",
       "std      0.945249  \n",
       "min      1.000000  \n",
       "25%      2.000000  \n",
       "50%      2.000000  \n",
       "75%      3.000000  \n",
       "max      6.000000  "
      ]
     },
     "execution_count": 7,
     "metadata": {},
     "output_type": "execute_result"
    }
   ],
   "source": [
    "df.describe()"
   ]
  },
  {
   "cell_type": "code",
   "execution_count": 8,
   "id": "8973cd12-d9e4-4c76-9eaa-13d6d0e3d1a5",
   "metadata": {},
   "outputs": [
    {
     "data": {
      "text/plain": [
       "total_bill    0\n",
       "tip           0\n",
       "sex           2\n",
       "smoker        0\n",
       "day           0\n",
       "time          1\n",
       "size          1\n",
       "dtype: int64"
      ]
     },
     "execution_count": 8,
     "metadata": {},
     "output_type": "execute_result"
    }
   ],
   "source": [
    "df.isnull().sum()"
   ]
  },
  {
   "cell_type": "code",
   "execution_count": 9,
   "id": "28e94bfd-4be6-4a60-8600-fe9b010e5c27",
   "metadata": {},
   "outputs": [],
   "source": [
    "from numpy import isnan\n",
    "from sklearn.impute import SimpleImputer"
   ]
  },
  {
   "cell_type": "code",
   "execution_count": 10,
   "id": "c215bdb9-d6d7-4af5-b0db-77b0e2134f1e",
   "metadata": {},
   "outputs": [],
   "source": [
    "y = df['total_bill']\n",
    "x = df.drop('total_bill',axis =1)"
   ]
  },
  {
   "cell_type": "code",
   "execution_count": 11,
   "id": "c48028f0-9a83-44a9-81ad-7e792a17b768",
   "metadata": {},
   "outputs": [
    {
     "data": {
      "text/plain": [
       "0      16.99\n",
       "1      10.34\n",
       "2      21.01\n",
       "3      23.68\n",
       "4      24.59\n",
       "       ...  \n",
       "244    16.99\n",
       "245    10.34\n",
       "246    10.34\n",
       "247    10.34\n",
       "248    10.34\n",
       "Name: total_bill, Length: 249, dtype: float64"
      ]
     },
     "execution_count": 11,
     "metadata": {},
     "output_type": "execute_result"
    }
   ],
   "source": [
    "y"
   ]
  },
  {
   "cell_type": "code",
   "execution_count": 12,
   "id": "3d778245-23a7-4a1f-98ce-d87868d597fd",
   "metadata": {},
   "outputs": [
    {
     "data": {
      "text/html": [
       "<div>\n",
       "<style scoped>\n",
       "    .dataframe tbody tr th:only-of-type {\n",
       "        vertical-align: middle;\n",
       "    }\n",
       "\n",
       "    .dataframe tbody tr th {\n",
       "        vertical-align: top;\n",
       "    }\n",
       "\n",
       "    .dataframe thead th {\n",
       "        text-align: right;\n",
       "    }\n",
       "</style>\n",
       "<table border=\"1\" class=\"dataframe\">\n",
       "  <thead>\n",
       "    <tr style=\"text-align: right;\">\n",
       "      <th></th>\n",
       "      <th>tip</th>\n",
       "      <th>sex</th>\n",
       "      <th>smoker</th>\n",
       "      <th>day</th>\n",
       "      <th>time</th>\n",
       "      <th>size</th>\n",
       "    </tr>\n",
       "  </thead>\n",
       "  <tbody>\n",
       "    <tr>\n",
       "      <th>0</th>\n",
       "      <td>1.01</td>\n",
       "      <td>0.0</td>\n",
       "      <td>0</td>\n",
       "      <td>3</td>\n",
       "      <td>1.0</td>\n",
       "      <td>2.0</td>\n",
       "    </tr>\n",
       "    <tr>\n",
       "      <th>1</th>\n",
       "      <td>1.66</td>\n",
       "      <td>1.0</td>\n",
       "      <td>0</td>\n",
       "      <td>3</td>\n",
       "      <td>1.0</td>\n",
       "      <td>3.0</td>\n",
       "    </tr>\n",
       "    <tr>\n",
       "      <th>2</th>\n",
       "      <td>3.50</td>\n",
       "      <td>1.0</td>\n",
       "      <td>0</td>\n",
       "      <td>3</td>\n",
       "      <td>1.0</td>\n",
       "      <td>3.0</td>\n",
       "    </tr>\n",
       "    <tr>\n",
       "      <th>3</th>\n",
       "      <td>3.31</td>\n",
       "      <td>1.0</td>\n",
       "      <td>0</td>\n",
       "      <td>3</td>\n",
       "      <td>1.0</td>\n",
       "      <td>2.0</td>\n",
       "    </tr>\n",
       "    <tr>\n",
       "      <th>4</th>\n",
       "      <td>3.61</td>\n",
       "      <td>0.0</td>\n",
       "      <td>0</td>\n",
       "      <td>3</td>\n",
       "      <td>1.0</td>\n",
       "      <td>4.0</td>\n",
       "    </tr>\n",
       "    <tr>\n",
       "      <th>...</th>\n",
       "      <td>...</td>\n",
       "      <td>...</td>\n",
       "      <td>...</td>\n",
       "      <td>...</td>\n",
       "      <td>...</td>\n",
       "      <td>...</td>\n",
       "    </tr>\n",
       "    <tr>\n",
       "      <th>244</th>\n",
       "      <td>1.01</td>\n",
       "      <td>0.0</td>\n",
       "      <td>0</td>\n",
       "      <td>3</td>\n",
       "      <td>1.0</td>\n",
       "      <td>2.0</td>\n",
       "    </tr>\n",
       "    <tr>\n",
       "      <th>245</th>\n",
       "      <td>1.66</td>\n",
       "      <td>NaN</td>\n",
       "      <td>0</td>\n",
       "      <td>3</td>\n",
       "      <td>1.0</td>\n",
       "      <td>3.0</td>\n",
       "    </tr>\n",
       "    <tr>\n",
       "      <th>246</th>\n",
       "      <td>1.66</td>\n",
       "      <td>NaN</td>\n",
       "      <td>0</td>\n",
       "      <td>3</td>\n",
       "      <td>1.0</td>\n",
       "      <td>3.0</td>\n",
       "    </tr>\n",
       "    <tr>\n",
       "      <th>247</th>\n",
       "      <td>1.66</td>\n",
       "      <td>1.0</td>\n",
       "      <td>0</td>\n",
       "      <td>3</td>\n",
       "      <td>NaN</td>\n",
       "      <td>3.0</td>\n",
       "    </tr>\n",
       "    <tr>\n",
       "      <th>248</th>\n",
       "      <td>1.66</td>\n",
       "      <td>1.0</td>\n",
       "      <td>0</td>\n",
       "      <td>3</td>\n",
       "      <td>1.0</td>\n",
       "      <td>NaN</td>\n",
       "    </tr>\n",
       "  </tbody>\n",
       "</table>\n",
       "<p>249 rows × 6 columns</p>\n",
       "</div>"
      ],
      "text/plain": [
       "      tip  sex  smoker  day  time  size\n",
       "0    1.01  0.0       0    3   1.0   2.0\n",
       "1    1.66  1.0       0    3   1.0   3.0\n",
       "2    3.50  1.0       0    3   1.0   3.0\n",
       "3    3.31  1.0       0    3   1.0   2.0\n",
       "4    3.61  0.0       0    3   1.0   4.0\n",
       "..    ...  ...     ...  ...   ...   ...\n",
       "244  1.01  0.0       0    3   1.0   2.0\n",
       "245  1.66  NaN       0    3   1.0   3.0\n",
       "246  1.66  NaN       0    3   1.0   3.0\n",
       "247  1.66  1.0       0    3   NaN   3.0\n",
       "248  1.66  1.0       0    3   1.0   NaN\n",
       "\n",
       "[249 rows x 6 columns]"
      ]
     },
     "execution_count": 12,
     "metadata": {},
     "output_type": "execute_result"
    }
   ],
   "source": [
    "x"
   ]
  },
  {
   "cell_type": "code",
   "execution_count": 13,
   "id": "93667539-5700-419e-bb63-40435b5eaac8",
   "metadata": {},
   "outputs": [],
   "source": [
    "data = x.values\n",
    "y = y.values"
   ]
  },
  {
   "cell_type": "code",
   "execution_count": 14,
   "id": "f06a730b-7cf4-4242-b385-9df4ac7d4ac7",
   "metadata": {},
   "outputs": [
    {
     "data": {
      "text/plain": [
       "4"
      ]
     },
     "execution_count": 14,
     "metadata": {},
     "output_type": "execute_result"
    }
   ],
   "source": [
    "sum(isnan(data).flatten())"
   ]
  },
  {
   "cell_type": "code",
   "execution_count": 15,
   "id": "4baf87c8-c481-4515-a5bb-9fa3a947923e",
   "metadata": {},
   "outputs": [
    {
     "data": {
      "text/plain": [
       "0"
      ]
     },
     "execution_count": 15,
     "metadata": {},
     "output_type": "execute_result"
    }
   ],
   "source": [
    "sum(isnan(y).flatten())"
   ]
  },
  {
   "cell_type": "code",
   "execution_count": 16,
   "id": "ee77465a-cb4a-4e23-8e85-14aa6d60090e",
   "metadata": {},
   "outputs": [],
   "source": [
    "imputer = SimpleImputer(strategy = 'median')\n",
    "imputer.fit(data)\n",
    "data_trans = imputer.transform(data)"
   ]
  },
  {
   "cell_type": "markdown",
   "id": "5819c185-86d4-4810-a807-4d2ad4bb0e31",
   "metadata": {},
   "source": [
    "## regression 시작"
   ]
  },
  {
   "cell_type": "code",
   "execution_count": 17,
   "id": "0584c03e-7221-458d-a41c-ddd8eb010ede",
   "metadata": {},
   "outputs": [],
   "source": [
    "from sklearn.feature_selection import SelectKBest\n",
    "from sklearn.feature_selection import f_regression"
   ]
  },
  {
   "cell_type": "code",
   "execution_count": 18,
   "id": "7d11f291-4fc4-4394-90c0-7659f69fd8aa",
   "metadata": {},
   "outputs": [
    {
     "name": "stdout",
     "output_type": "stream",
     "text": [
      "(249, 4)\n"
     ]
    }
   ],
   "source": [
    "fs = SelectKBest(score_func=f_regression, k=4)\n",
    "# apply feature selection\n",
    "X_selected = fs.fit_transform(data_trans, y)\n",
    "print(X_selected.shape)"
   ]
  },
  {
   "cell_type": "code",
   "execution_count": 21,
   "id": "738ff346-2c7a-444a-985a-07b4bed7fb9b",
   "metadata": {},
   "outputs": [],
   "source": [
    "df2 = pd.DataFrame(X_selected)"
   ]
  },
  {
   "cell_type": "code",
   "execution_count": 22,
   "id": "a584367c-1e51-4a21-9030-999a58526723",
   "metadata": {},
   "outputs": [
    {
     "data": {
      "text/html": [
       "<div>\n",
       "<style scoped>\n",
       "    .dataframe tbody tr th:only-of-type {\n",
       "        vertical-align: middle;\n",
       "    }\n",
       "\n",
       "    .dataframe tbody tr th {\n",
       "        vertical-align: top;\n",
       "    }\n",
       "\n",
       "    .dataframe thead th {\n",
       "        text-align: right;\n",
       "    }\n",
       "</style>\n",
       "<table border=\"1\" class=\"dataframe\">\n",
       "  <thead>\n",
       "    <tr style=\"text-align: right;\">\n",
       "      <th></th>\n",
       "      <th>0</th>\n",
       "      <th>1</th>\n",
       "      <th>2</th>\n",
       "      <th>3</th>\n",
       "    </tr>\n",
       "  </thead>\n",
       "  <tbody>\n",
       "    <tr>\n",
       "      <th>0</th>\n",
       "      <td>1.01</td>\n",
       "      <td>3.0</td>\n",
       "      <td>1.0</td>\n",
       "      <td>2.0</td>\n",
       "    </tr>\n",
       "    <tr>\n",
       "      <th>1</th>\n",
       "      <td>1.66</td>\n",
       "      <td>3.0</td>\n",
       "      <td>1.0</td>\n",
       "      <td>3.0</td>\n",
       "    </tr>\n",
       "    <tr>\n",
       "      <th>2</th>\n",
       "      <td>3.50</td>\n",
       "      <td>3.0</td>\n",
       "      <td>1.0</td>\n",
       "      <td>3.0</td>\n",
       "    </tr>\n",
       "    <tr>\n",
       "      <th>3</th>\n",
       "      <td>3.31</td>\n",
       "      <td>3.0</td>\n",
       "      <td>1.0</td>\n",
       "      <td>2.0</td>\n",
       "    </tr>\n",
       "    <tr>\n",
       "      <th>4</th>\n",
       "      <td>3.61</td>\n",
       "      <td>3.0</td>\n",
       "      <td>1.0</td>\n",
       "      <td>4.0</td>\n",
       "    </tr>\n",
       "    <tr>\n",
       "      <th>...</th>\n",
       "      <td>...</td>\n",
       "      <td>...</td>\n",
       "      <td>...</td>\n",
       "      <td>...</td>\n",
       "    </tr>\n",
       "    <tr>\n",
       "      <th>244</th>\n",
       "      <td>1.01</td>\n",
       "      <td>3.0</td>\n",
       "      <td>1.0</td>\n",
       "      <td>2.0</td>\n",
       "    </tr>\n",
       "    <tr>\n",
       "      <th>245</th>\n",
       "      <td>1.66</td>\n",
       "      <td>3.0</td>\n",
       "      <td>1.0</td>\n",
       "      <td>3.0</td>\n",
       "    </tr>\n",
       "    <tr>\n",
       "      <th>246</th>\n",
       "      <td>1.66</td>\n",
       "      <td>3.0</td>\n",
       "      <td>1.0</td>\n",
       "      <td>3.0</td>\n",
       "    </tr>\n",
       "    <tr>\n",
       "      <th>247</th>\n",
       "      <td>1.66</td>\n",
       "      <td>3.0</td>\n",
       "      <td>1.0</td>\n",
       "      <td>3.0</td>\n",
       "    </tr>\n",
       "    <tr>\n",
       "      <th>248</th>\n",
       "      <td>1.66</td>\n",
       "      <td>3.0</td>\n",
       "      <td>1.0</td>\n",
       "      <td>2.0</td>\n",
       "    </tr>\n",
       "  </tbody>\n",
       "</table>\n",
       "<p>249 rows × 4 columns</p>\n",
       "</div>"
      ],
      "text/plain": [
       "        0    1    2    3\n",
       "0    1.01  3.0  1.0  2.0\n",
       "1    1.66  3.0  1.0  3.0\n",
       "2    3.50  3.0  1.0  3.0\n",
       "3    3.31  3.0  1.0  2.0\n",
       "4    3.61  3.0  1.0  4.0\n",
       "..    ...  ...  ...  ...\n",
       "244  1.01  3.0  1.0  2.0\n",
       "245  1.66  3.0  1.0  3.0\n",
       "246  1.66  3.0  1.0  3.0\n",
       "247  1.66  3.0  1.0  3.0\n",
       "248  1.66  3.0  1.0  2.0\n",
       "\n",
       "[249 rows x 4 columns]"
      ]
     },
     "execution_count": 22,
     "metadata": {},
     "output_type": "execute_result"
    }
   ],
   "source": [
    "df2"
   ]
  },
  {
   "cell_type": "code",
   "execution_count": null,
   "id": "6267e817-215b-4227-bf80-39b08adb19f0",
   "metadata": {},
   "outputs": [],
   "source": []
  }
 ],
 "metadata": {
  "kernelspec": {
   "display_name": "Python Multi",
   "language": "python",
   "name": "multi"
  },
  "language_info": {
   "codemirror_mode": {
    "name": "ipython",
    "version": 3
   },
   "file_extension": ".py",
   "mimetype": "text/x-python",
   "name": "python",
   "nbconvert_exporter": "python",
   "pygments_lexer": "ipython3",
   "version": "3.7.6"
  }
 },
 "nbformat": 4,
 "nbformat_minor": 5
}
